{
 "cells": [
  {
   "cell_type": "code",
   "execution_count": 1,
   "metadata": {
    "colab": {},
    "colab_type": "code",
    "id": "XJksAs-CCf0E"
   },
   "outputs": [],
   "source": [
    "import numpy as np\n",
    "import matplotlib.pyplot as plt\n",
    "from scipy.sparse import csr_matrix, lil_matrix, identity\n",
    "import cv2\n",
    "from IPython.display import clear_output\n",
    "import time\n",
    "from matplotlib import animation\n",
    "\n",
    "\n",
    "def box_house(posx, posy, x, y):\n",
    "    return (posx < x < posx + 18 and posy < y < posy + 18)\n",
    "\n",
    "\n",
    "def l_house(posx, posy, x, y):\n",
    "    return (posx < x < posx + 18 and posy < y < posy + 78) or (posx < x + 12 < posx + 13 and posy < y - 60 < posy + 18)\n",
    "\n",
    "\n",
    "def L_house(posx, posy, x, y):\n",
    "    return (posx < x < posx + 18 and posy < y < posy + 78) or (posx < x - 17 < posx + 12 and posy < y < posy + 18)\n",
    "\n",
    "\n",
    "def check_boxes(x, y):\n",
    "    boxes = [(69, 111), (69, 264),\n",
    "             (138, 12), (138, 165),\n",
    "             (192, 111), (192, 264),\n",
    "             (261, 12), (261, 165)]\n",
    "    for box in boxes:\n",
    "        if box_house(box[0], box[1], x, y):\n",
    "            return True\n",
    "    return False\n",
    "\n",
    "\n",
    "def check_l(x, y):\n",
    "    l_houses = [(138, 51), (138, 204),\n",
    "                (261, 51), (261, 204)]\n",
    "    for house in l_houses:\n",
    "        if l_house(house[0], house[1], x, y):\n",
    "            return True\n",
    "    return False\n",
    "\n",
    "\n",
    "def check_L(x, y):\n",
    "    L_houses = [(69, 12), (69, 165),\n",
    "                (192, 12), (192, 165)]\n",
    "    for house in L_houses:\n",
    "        if L_house(house[0], house[1], x, y):\n",
    "            return True\n",
    "    return False\n",
    "\n",
    "\n",
    "def check_houses(x, y):\n",
    "    return check_boxes(x, y) or check_l(x, y) or check_L(x, y)\n",
    "\n",
    "\n",
    "def check_edge_cond(x, y, n):\n",
    "    x = (x/n)*300\n",
    "    y = (y/n)*300\n",
    "    return check_houses(x, y) or (x > 299 or y > 299 or y == 0 or x < 0)\n",
    "\n",
    "\n",
    "def crossSchema(eps=0.5e-5, history=True):\n",
    "    n = 300\n",
    "    k = 0.5\n",
    "    lambda1 = 1.0\n",
    "    lambda2 = 0.0\n",
    "    steps = 300000\n",
    "    pictures = 3000\n",
    "\n",
    "    N = n ** 2\n",
    "    h = 1 / n\n",
    "    tau = h ** 2 / (4 * k)\n",
    "\n",
    "    x = np.zeros((N, 1))\n",
    "    for i in range(n):\n",
    "        x[i:n, 0] = 1\n",
    "\n",
    "    A = lil_matrix((N, N))\n",
    "    b = np.zeros(N)\n",
    "\n",
    "    dx = [1, -1, 0, 0]\n",
    "    dy = [0, 0, 1, -1]\n",
    "    u0coeff = 1 - 4 * (tau * k) / (h ** 2)\n",
    "    coeffs = [tau * (k / (h ** 2) - lambda1 / (2 * h)),\n",
    "              tau * (k / (h ** 2) + lambda1 / (2 * h)),\n",
    "              tau * (k / (h ** 2) - lambda2 / (2 * h)),\n",
    "              tau * (k / (h ** 2) + lambda2 / (2 * h))]\n",
    "\n",
    "    for i in range(n):\n",
    "        for e in range(n):\n",
    "            ind = i * n + e\n",
    "            A[ind, ind] = u0coeff\n",
    "            if (check_edge_cond(i, e, n)):\n",
    "                continue\n",
    "\n",
    "            for j in range(0, 4):\n",
    "                x1 = i + dx[j]\n",
    "                y1 = e + dy[j]\n",
    "                coeff = coeffs[j]\n",
    "\n",
    "                if x1==0:\n",
    "                    b[ind] -= coeff\n",
    "                elif check_edge_cond(x1, y1, n):\n",
    "                    A[ind, ind] += coeff\n",
    "                else:\n",
    "                    A[ind, x1 * n + y1] += coeff\n",
    "\n",
    "    A = csr_matrix(A)\n",
    "    b = b.reshape(N, -1)\n",
    "    pic = []\n",
    "    error = 1\n",
    "    i = 0\n",
    "    for i in range(steps):\n",
    "        x_new = A * x + b\n",
    "        error = np.max(np.abs(x_new - x))\n",
    "        if error < eps:\n",
    "            break\n",
    "        x = x_new\n",
    "        if history:\n",
    "            if i % (steps // pictures) == 0:\n",
    "                clear_output()\n",
    "                print(f'Step #{i//(steps//pictures)} out of {pictures}. Error is {error}')\n",
    "                pic.append(-x.reshape((n, n)).T)\n",
    "        i += 1\n",
    "        \n",
    "    return -x.reshape((n, n)).T, pic, error\n"
   ]
  },
  {
   "cell_type": "code",
   "execution_count": 2,
   "metadata": {
    "colab": {
     "base_uri": "https://localhost:8080/",
     "height": 265
    },
    "colab_type": "code",
    "id": "gJ_8n26ziGiL",
    "outputId": "035c5ce3-5e60-4e5c-af4d-3b9b99ee9a67",
    "scrolled": false
   },
   "outputs": [
    {
     "name": "stdout",
     "output_type": "stream",
     "text": [
      "Step #1120 out of 3000. Error is 5.002274194032541e-06\n",
      "Final Error is 4.999971642438705e-06. Computational time - 107.44898796081543\n"
     ]
    },
    {
     "data": {
      "image/png": "[encoded data removed]",
      "text/plain": [
       "<Figure size 432x288 with 2 Axes>"
      ]
     },
     "metadata": {
      "needs_background": "light"
     },
     "output_type": "display_data"
    }
   ],
   "source": [
    "start = time.time()\n",
    "x_res, steps, error = crossSchema()\n",
    "end = time.time()\n",
    "print(f'Final Error is {error}. Computational time - {end - start}')\n",
    "fig = plt.imshow(x_res)\n",
    "plt.colorbar(fig)\n",
    "plt.gca().invert_yaxis()\n",
    "plt.show()"
   ]
  },
  {
   "cell_type": "code",
   "execution_count": 3,
   "metadata": {
    "scrolled": true
   },
   "outputs": [],
   "source": [
    "out = cv2.VideoWriter('diff.avi',cv2.VideoWriter_fourcc('M','J','P','G'), 60, (300,300))\n",
    "out_shorter = cv2.VideoWriter('diff short.avi',cv2.VideoWriter_fourcc('M','J','P','G'), 60, (300,300))\n",
    "i = 0\n",
    "for step in steps:\n",
    "    s = step[::-1, :]/np.max(step)*255\n",
    "    s = np.array(s, dtype=np.uint8)\n",
    "    s = cv2.cvtColor(s, cv2.COLOR_GRAY2RGB)\n",
    "    s = cv2.resize(s, (300, 300))\n",
    "    out.write(s)\n",
    "    i+=1\n",
    "    if i < 1000:\n",
    "        out_shorter.write(s)\n",
    "out.release()\n",
    "out_shorter.release()"
   ]
  },
  {
   "cell_type": "code",
   "execution_count": 5,
   "metadata": {
    "scrolled": true
   },
   "outputs": [
    {
     "name": "stderr",
     "output_type": "stream",
     "text": [
      "MovieWriter ffmpeg unavailable; trying to use <class 'matplotlib.animation.PillowWriter'> instead.\n"
     ]
    },
    {
     "data": {
      "image/png": "[encoded data removed]",
      "text/plain": [
       "<Figure size 432x288 with 2 Axes>"
      ]
     },
     "metadata": {
      "needs_background": "light"
     },
     "output_type": "display_data"
    }
   ],
   "source": [
    "fig = plt.figure()\n",
    "ims = []\n",
    "\n",
    "i = 0\n",
    "for step in steps:\n",
    "    im = plt.imshow(step, animated=True)\n",
    "    ims.append([im])\n",
    "    i+=1\n",
    "    if i > 1000:\n",
    "        break\n",
    "plt.gca().invert_yaxis()\n",
    "plt.colorbar(im)\n",
    "\n",
    "ani = animation.ArtistAnimation(fig, ims, interval=50, blit=True,\n",
    "                                repeat_delay=1000)\n",
    "\n",
    "ani.save('diffuzia 2.gif')\n",
    "\n",
    "plt.show()"
   ]
  },
  {
   "cell_type": "code",
   "execution_count": null,
   "metadata": {},
   "outputs": [],
   "source": []
  },
  {
   "cell_type": "code",
   "execution_count": null,
   "metadata": {},
   "outputs": [],
   "source": []
  },
  {
   "cell_type": "code",
   "execution_count": null,
   "metadata": {},
   "outputs": [],
   "source": []
  }
 ],
 "metadata": {
  "colab": {
   "collapsed_sections": [],
   "machine_shape": "hm",
   "name": "Copy of Untitled3.ipynb",
   "provenance": []
  },
  "kernelspec": {
   "display_name": "Python 3",
   "language": "python",
   "name": "python3"
  },
  "language_info": {
   "codemirror_mode": {
    "name": "ipython",
    "version": 3
   },
   "file_extension": ".py",
   "mimetype": "text/x-python",
   "name": "python",
   "nbconvert_exporter": "python",
   "pygments_lexer": "ipython3",
   "version": "3.7.5"
  }
 },
 "nbformat": 4,
 "nbformat_minor": 1
}
